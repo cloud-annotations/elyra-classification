{
 "cells": [
  {
   "cell_type": "code",
   "execution_count": 3,
   "id": "improving-settlement",
   "metadata": {},
   "outputs": [
    {
     "name": "stdout",
     "output_type": "stream",
     "text": [
      "Requirement already satisfied: pandas==1.2.1 in /opt/conda/lib/python3.8/site-packages (1.2.1)\n",
      "Requirement already satisfied: pytz>=2017.3 in /opt/conda/lib/python3.8/site-packages (from pandas==1.2.1) (2020.5)\n",
      "Requirement already satisfied: numpy>=1.16.5 in /opt/conda/lib/python3.8/site-packages (from pandas==1.2.1) (1.19.5)\n",
      "Requirement already satisfied: python-dateutil>=2.7.3 in /opt/conda/lib/python3.8/site-packages (from pandas==1.2.1) (2.8.1)\n",
      "Requirement already satisfied: six>=1.5 in /opt/conda/lib/python3.8/site-packages (from python-dateutil>=2.7.3->pandas==1.2.1) (1.15.0)\n",
      "\u001b[33mWARNING: You are using pip version 21.0; however, version 21.0.1 is available.\n",
      "You should consider upgrading via the '/opt/conda/bin/python -m pip install --upgrade pip' command.\u001b[0m\n",
      "Note: you may need to restart the kernel to use updated packages.\n"
     ]
    }
   ],
   "source": [
    "pip install pandas==1.2.1"
   ]
  },
  {
   "cell_type": "code",
   "execution_count": 2,
   "id": "tracked-savings",
   "metadata": {},
   "outputs": [],
   "source": [
    "import os\n",
    "column = os.environ.get('column','target')\n",
    "function = os.environ.get('function')"
   ]
  },
  {
   "cell_type": "code",
   "execution_count": 3,
   "id": "running-aviation",
   "metadata": {},
   "outputs": [],
   "source": [
    "def is_local():\n",
    "    import socket\n",
    "    return '172.17.0.2' == socket.gethostbyname(socket.gethostname())"
   ]
  },
  {
   "cell_type": "code",
   "execution_count": 22,
   "id": "adapted-leisure",
   "metadata": {},
   "outputs": [],
   "source": [
    "if is_local():\n",
    "    function = \"replace('/','_')\"\n",
    "    column = 'finding'"
   ]
  },
  {
   "cell_type": "code",
   "execution_count": 23,
   "id": "domestic-restaurant",
   "metadata": {},
   "outputs": [],
   "source": [
    "import pandas as pd"
   ]
  },
  {
   "cell_type": "code",
   "execution_count": 18,
   "id": "thick-floating",
   "metadata": {},
   "outputs": [],
   "source": [
    "metadata = pd.read_csv('metadata.csv')"
   ]
  },
  {
   "cell_type": "code",
   "execution_count": 24,
   "id": "binding-vehicle",
   "metadata": {},
   "outputs": [],
   "source": [
    "exec('l = lambda x: x.'+function)"
   ]
  },
  {
   "cell_type": "code",
   "execution_count": 25,
   "id": "bottom-humanity",
   "metadata": {},
   "outputs": [],
   "source": [
    "metadata[column] = metadata[column].apply(l)"
   ]
  },
  {
   "cell_type": "code",
   "execution_count": 33,
   "id": "imperial-photograph",
   "metadata": {},
   "outputs": [],
   "source": [
    "metadata.to_csv('metadata.csv', index=False)"
   ]
  }
 ],
 "metadata": {
  "kernelspec": {
   "display_name": "Python 3",
   "language": "python",
   "name": "python3"
  },
  "language_info": {
   "codemirror_mode": {
    "name": "ipython",
    "version": 3
   },
   "file_extension": ".py",
   "mimetype": "text/x-python",
   "name": "python",
   "nbconvert_exporter": "python",
   "pygments_lexer": "ipython3",
   "version": "3.8.6"
  }
 },
 "nbformat": 4,
 "nbformat_minor": 5
}
