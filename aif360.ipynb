{
 "cells": [
  {
   "cell_type": "code",
   "execution_count": null,
   "metadata": {},
   "outputs": [],
   "source": [
    "!pip install scikit-learn==0.24.1  aif360==0.3.0  tensorflow==2.4.0 nodejs==0.1.1 ipywidgets==7.6.3 lime==0.2.0.1 #aix360==0.2.1 "
   ]
  },
  {
   "cell_type": "code",
   "execution_count": null,
   "metadata": {},
   "outputs": [],
   "source": [
    "!jupyter labextension install @jupyter-widgets/jupyterlab-manager"
   ]
  },
  {
   "cell_type": "code",
   "execution_count": null,
   "metadata": {},
   "outputs": [],
   "source": [
    "import tensorflow as tf\n",
    "from tensorflow import keras"
   ]
  },
  {
   "cell_type": "code",
   "execution_count": null,
   "metadata": {},
   "outputs": [],
   "source": [
    "model = keras.models.load_model('model')"
   ]
  },
  {
   "cell_type": "code",
   "execution_count": null,
   "metadata": {},
   "outputs": [],
   "source": [
    "import pandas as pd\n",
    "df = pd.read_csv('fairface_label_val.csv')"
   ]
  },
  {
   "cell_type": "code",
   "execution_count": null,
   "metadata": {},
   "outputs": [],
   "source": [
    "from PIL import Image\n",
    "from numpy import asarray\n",
    "\n",
    "dataset = []\n",
    "\n",
    "for i, row in df.iterrows():\n",
    "    image = 'data/val/'+row['gender'].lower()+'/'+row['file'].split('/')[1] \n",
    "    image = Image.open(image)\n",
    "    image = image.resize((244,244), Image.ANTIALIAS)\n",
    "    data = asarray(image)\n",
    "    data.shape = (1, 244, 244, 3)\n",
    "    label = 0 if row['gender']==\"Female\" else 1\n",
    "    prediction = model.predict(data)\n",
    "    prediction = tf.math.argmax(prediction,1).numpy()[0] #de-onehotencode\n",
    "    dataset.append([label,prediction])"
   ]
  },
  {
   "cell_type": "code",
   "execution_count": null,
   "metadata": {},
   "outputs": [],
   "source": [
    "import numpy as np\n",
    "dataset = np.array(dataset)"
   ]
  },
  {
   "cell_type": "code",
   "execution_count": null,
   "metadata": {},
   "outputs": [],
   "source": [
    "import pandas as pd\n",
    "df = pd.read_csv('fairface_label_val.csv')"
   ]
  },
  {
   "cell_type": "code",
   "execution_count": null,
   "metadata": {},
   "outputs": [],
   "source": [
    "df['labels'] = dataset[:,0].tolist()\n",
    "df['prediction'] = dataset[:,1].tolist()"
   ]
  },
  {
   "cell_type": "code",
   "execution_count": null,
   "metadata": {},
   "outputs": [],
   "source": [
    "df[\"age_index\"] = df.age.apply(lambda x: list(df.age.unique()).index(x))\n",
    "df[\"gender_index\"] = df.gender.apply(lambda x: list(df.gender.unique()).index(x))\n",
    "df[\"race_index\"] = df.race.apply(lambda x: list(df.race.unique()).index(x))\n",
    "df[\"missclassified\"] = df.apply(lambda d: 1 if d.labels!=d.prediction else 0, axis=1)"
   ]
  },
  {
   "cell_type": "code",
   "execution_count": null,
   "metadata": {},
   "outputs": [],
   "source": [
    "from aif360.datasets import BinaryLabelDataset\n",
    "\n",
    "unprivileged_groups = [{'race_index': 2}]\n",
    "privileged_groups = [{'race_index': 1 }]\n",
    "                     \n",
    "                   \n",
    "favorable_label = 0\n",
    "unfavorable_label = 1\n",
    "\n",
    "df_for_aif360 = df[[\"age_index\", \"gender_index\", \"race_index\", \"missclassified\"]]\n",
    "\n",
    "\n",
    "\n",
    "df_for_aif360"
   ]
  },
  {
   "cell_type": "code",
   "execution_count": null,
   "metadata": {},
   "outputs": [],
   "source": [
    "\n",
    "aif360_dataset = BinaryLabelDataset(\n",
    "    favorable_label=favorable_label,\n",
    "    unfavorable_label=unfavorable_label,\n",
    "    df=df_for_aif360,\n",
    "    label_names=['missclassified'],\n",
    "    protected_attribute_names=['race_index'],\n",
    "    unprivileged_protected_attributes=unprivileged_groups)"
   ]
  },
  {
   "cell_type": "code",
   "execution_count": null,
   "metadata": {},
   "outputs": [],
   "source": [
    "from aif360.metrics import BinaryLabelDatasetMetric\n",
    "\n",
    "metric_orig_train = BinaryLabelDatasetMetric(aif360_dataset, \n",
    "                                             unprivileged_groups=unprivileged_groups,\n",
    "                                             privileged_groups=privileged_groups)"
   ]
  },
  {
   "cell_type": "code",
   "execution_count": null,
   "metadata": {},
   "outputs": [],
   "source": [
    "metric_orig_train.statistical_parity_difference()"
   ]
  }
 ],
 "metadata": {
  "kernelspec": {
   "display_name": "Python 3",
   "language": "python",
   "name": "python3"
  },
  "language_info": {
   "codemirror_mode": {
    "name": "ipython",
    "version": 3
   },
   "file_extension": ".py",
   "mimetype": "text/x-python",
   "name": "python",
   "nbconvert_exporter": "python",
   "pygments_lexer": "ipython3",
   "version": "3.8.6"
  }
 },
 "nbformat": 4,
 "nbformat_minor": 4
}
