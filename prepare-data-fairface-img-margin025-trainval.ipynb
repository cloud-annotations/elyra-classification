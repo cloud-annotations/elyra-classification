{
 "cells": [
  {
   "cell_type": "code",
   "execution_count": null,
   "metadata": {},
   "outputs": [],
   "source": [
    "#https://github.com/joojs/fairface\n",
    "#https://drive.google.com/file/d/1Z1RqRo0_JiavaZw2yzZG6WETdZQ8qX86/view?usp=sharing"
   ]
  },
  {
   "cell_type": "code",
   "execution_count": null,
   "metadata": {},
   "outputs": [],
   "source": [
    "!pip install gdown"
   ]
  },
  {
   "cell_type": "code",
   "execution_count": 5,
   "metadata": {},
   "outputs": [],
   "source": [
    "!gdown https://doc-0c-a8-docs.googleusercontent.com/docs/securesc/3apigs1js65g4al51r7a92utg30ku80n/lhuiqcj2gipuq5gotsr7qo5r347fdlh2/1611392700000/03161587497725415728/12172510880171081388/1i1L3Yqwaio7YSOCj7ftgk8ZZchPG7dmH?e=download&authuser=0&nonce=q71e4gvq409ve&user=12172510880171081388&hash=4t0km7e33d324nl13jnel7sb5q8tl3e2"
   ]
  },
  {
   "cell_type": "code",
   "execution_count": 31,
   "metadata": {},
   "outputs": [],
   "source": [
    "import zipfile\n",
    "with zipfile.ZipFile('fairface-img-margin025-trainval.zip', 'r') as zip_ref:\n",
    "    zip_ref.extractall('data')"
   ]
  },
  {
   "cell_type": "code",
   "execution_count": 32,
   "metadata": {},
   "outputs": [],
   "source": [
    "!rm fairface-img-margin025-trainval.zip"
   ]
  },
  {
   "cell_type": "code",
   "execution_count": 33,
   "metadata": {},
   "outputs": [],
   "source": [
    "import pandas as pd\n",
    "train_meta = pd.read_csv('fairface_label_train.csv')\n",
    "train_meta['target_file'] = 't' + train_meta['file'].astype(str)\n",
    "val_meta = pd.read_csv('fairface_label_val.csv')\n",
    "val_meta['target_file'] = 'v' + val_meta['file'].astype(str)\n"
   ]
  },
  {
   "cell_type": "code",
   "execution_count": 34,
   "metadata": {},
   "outputs": [],
   "source": [
    "!rm -Rf data/male\n",
    "!rm -Rf data/female"
   ]
  },
  {
   "cell_type": "code",
   "execution_count": 35,
   "metadata": {},
   "outputs": [],
   "source": [
    "!mkdir data/male\n",
    "!mkdir data/female"
   ]
  },
  {
   "cell_type": "code",
   "execution_count": 36,
   "metadata": {},
   "outputs": [],
   "source": [
    "import os\n",
    "import shutil\n",
    "\n",
    "def move_data(meta_data):\n",
    "    for index, row in meta_data.iterrows():\n",
    "        source = \"data/\"+row['file']\n",
    "        male_target = \"data/male/\"+(row['target_file'].split('/')[1])\n",
    "        female_target = \"data/female/\"+(row['target_file'].split('/')[1])\n",
    "\n",
    "        if row['gender']=='Male':\n",
    "            #print(\"Moving male from \"+source+\" to \"+male_target)\n",
    "            shutil.move(source, male_target)\n",
    "        elif row['gender']=='Female':\n",
    "            #print(\"Moving female from \"+source+\" to \"+female_target\n",
    "            shutil.move(source, female_target)\n",
    "        else:\n",
    "            assert False\n",
    "\n"
   ]
  },
  {
   "cell_type": "code",
   "execution_count": 37,
   "metadata": {},
   "outputs": [],
   "source": [
    "move_data(train_meta)\n",
    "move_data(val_meta)"
   ]
  },
  {
   "cell_type": "code",
   "execution_count": 44,
   "metadata": {},
   "outputs": [],
   "source": [
    "!rmdir data/train\n",
    "!rmdir data/val"
   ]
  }
 ],
 "metadata": {
  "kernelspec": {
   "display_name": "Python 3",
   "language": "python",
   "name": "python3"
  },
  "language_info": {
   "codemirror_mode": {
    "name": "ipython",
    "version": 3
   },
   "file_extension": ".py",
   "mimetype": "text/x-python",
   "name": "python",
   "nbconvert_exporter": "python",
   "pygments_lexer": "ipython3",
   "version": "3.8.6"
  },
  "papermill": {
   "default_parameters": {},
   "duration": 40.447994,
   "end_time": "2021-01-20T10:19:24.429128",
   "environment_variables": {},
   "exception": null,
   "input_path": "/home/jovyan/work/elyra-classification/prepare-data-trusted-ai.ipynb",
   "output_path": "/home/jovyan/work/elyra-classification/prepare-data-trusted-ai.ipynb",
   "parameters": {},
   "start_time": "2021-01-20T10:18:43.981134",
   "version": "2.2.2"
  }
 },
 "nbformat": 4,
 "nbformat_minor": 4
}
