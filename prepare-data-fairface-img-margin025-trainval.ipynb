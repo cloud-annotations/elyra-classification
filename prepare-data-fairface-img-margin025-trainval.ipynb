{
 "cells": [
  {
   "cell_type": "code",
   "execution_count": 9,
   "metadata": {
    "papermill": {
     "duration": 3.695822,
     "end_time": "2021-01-28T15:58:37.359756",
     "exception": false,
     "start_time": "2021-01-28T15:58:33.663934",
     "status": "completed"
    },
    "tags": []
   },
   "outputs": [
    {
     "name": "stdout",
     "output_type": "stream",
     "text": [
      "Collecting import_ipynb==0.1.3\n",
      "  Downloading import-ipynb-0.1.3.tar.gz (4.0 kB)\n",
      "Building wheels for collected packages: import-ipynb\n",
      "  Building wheel for import-ipynb (setup.py) ... \u001b[?25ldone\n",
      "\u001b[?25h  Created wheel for import-ipynb: filename=import_ipynb-0.1.3-py3-none-any.whl size=2975 sha256=111bffa7a1e967b7e61d95432503f819dc185c1b50a96cb5395bd59f5cfa536c\n",
      "  Stored in directory: /home/jovyan/.cache/pip/wheels/06/7e/ad/1cb03e935234186825cefc7e2c8f3451b4f654b5bc72232a7b\n",
      "Successfully built import-ipynb\n",
      "Installing collected packages: import-ipynb\n",
      "Successfully installed import-ipynb-0.1.3\n"
     ]
    }
   ],
   "source": [
    "!pip install import_ipynb==0.1.3"
   ]
  },
  {
   "cell_type": "code",
   "execution_count": 10,
   "metadata": {
    "papermill": {
     "duration": 0.092437,
     "end_time": "2021-01-28T15:58:37.473115",
     "exception": false,
     "start_time": "2021-01-28T15:58:37.380678",
     "status": "completed"
    },
    "tags": []
   },
   "outputs": [
    {
     "name": "stdout",
     "output_type": "stream",
     "text": [
      "importing Jupyter notebook from codait_utils.ipynb\n"
     ]
    }
   ],
   "source": [
    "import import_ipynb\n",
    "from codait_utils import *"
   ]
  },
  {
   "cell_type": "code",
   "execution_count": null,
   "metadata": {},
   "outputs": [],
   "source": [
    "!wget https://rkie-kubeflow-trustedai-data.s3.eu-de.cloud-object-storage.appdomain.cloud/fairface-img-margin025-trainval.zip"
   ]
  },
  {
   "cell_type": "code",
   "execution_count": 3,
   "metadata": {
    "execution": {
     "iopub.execute_input": "2021-01-28T15:58:37.497536Z",
     "iopub.status.busy": "2021-01-28T15:58:37.497050Z",
     "iopub.status.idle": "2021-01-28T15:58:37.499378Z",
     "shell.execute_reply": "2021-01-28T15:58:37.499762Z"
    },
    "papermill": {
     "duration": 0.015891,
     "end_time": "2021-01-28T15:58:37.499944",
     "exception": false,
     "start_time": "2021-01-28T15:58:37.484053",
     "status": "completed"
    },
    "tags": []
   },
   "outputs": [],
   "source": [
    "#https://github.com/joojs/fairface\n",
    "#https://drive.google.com/file/d/1Z1RqRo0_JiavaZw2yzZG6WETdZQ8qX86/view?usp=sharing"
   ]
  },
  {
   "cell_type": "code",
   "execution_count": 1,
   "metadata": {
    "papermill": {
     "duration": 0.015206,
     "end_time": "2021-01-28T15:58:37.525506",
     "exception": false,
     "start_time": "2021-01-28T15:58:37.510300",
     "status": "completed"
    },
    "tags": []
   },
   "outputs": [],
   "source": [
    "#TODO define as env for Elyra to read\n",
    "data_org = 'data_org'\n",
    "data = 'data'\n",
    "data_small = 'data_small'"
   ]
  },
  {
   "cell_type": "code",
   "execution_count": 5,
   "metadata": {
    "execution": {
     "iopub.execute_input": "2021-01-28T15:58:37.551232Z",
     "iopub.status.busy": "2021-01-28T15:58:37.550526Z",
     "iopub.status.idle": "2021-01-28T15:58:37.552364Z",
     "shell.execute_reply": "2021-01-28T15:58:37.552743Z"
    },
    "papermill": {
     "duration": 0.016728,
     "end_time": "2021-01-28T15:58:37.552892",
     "exception": false,
     "start_time": "2021-01-28T15:58:37.536164",
     "status": "completed"
    },
    "tags": []
   },
   "outputs": [],
   "source": [
    "#!pip install gdown"
   ]
  },
  {
   "cell_type": "code",
   "execution_count": 6,
   "metadata": {
    "execution": {
     "iopub.execute_input": "2021-01-28T15:58:37.577966Z",
     "iopub.status.busy": "2021-01-28T15:58:37.577422Z",
     "iopub.status.idle": "2021-01-28T15:58:37.579290Z",
     "shell.execute_reply": "2021-01-28T15:58:37.579626Z"
    },
    "papermill": {
     "duration": 0.015974,
     "end_time": "2021-01-28T15:58:37.579769",
     "exception": false,
     "start_time": "2021-01-28T15:58:37.563795",
     "status": "completed"
    },
    "tags": []
   },
   "outputs": [],
   "source": [
    "#!gdown https://doc-0c-a8-docs.googleusercontent.com/docs/securesc/3apigs1js65g4al51r7a92utg30ku80n/lhuiqcj2gipuq5gotsr7qo5r347fdlh2/1611392700000/03161587497725415728/12172510880171081388/1i1L3Yqwaio7YSOCj7ftgk8ZZchPG7dmH?e=download&authuser=0&nonce=q71e4gvq409ve&user=12172510880171081388&hash=4t0km7e33d324nl13jnel7sb5q8tl3e2"
   ]
  },
  {
   "cell_type": "code",
   "execution_count": 7,
   "metadata": {
    "execution": {
     "iopub.execute_input": "2021-01-28T15:58:37.604494Z",
     "iopub.status.busy": "2021-01-28T15:58:37.603990Z",
     "iopub.status.idle": "2021-01-28T15:58:38.447177Z",
     "shell.execute_reply": "2021-01-28T15:58:38.447760Z"
    },
    "papermill": {
     "duration": 0.858031,
     "end_time": "2021-01-28T15:58:38.447970",
     "exception": false,
     "start_time": "2021-01-28T15:58:37.589939",
     "status": "completed"
    },
    "tags": []
   },
   "outputs": [],
   "source": [
    "!mkdir data_org"
   ]
  },
  {
   "cell_type": "code",
   "execution_count": 8,
   "metadata": {
    "execution": {
     "iopub.execute_input": "2021-01-28T15:58:38.477609Z",
     "iopub.status.busy": "2021-01-28T15:58:38.477146Z",
     "iopub.status.idle": "2021-01-28T15:58:52.972250Z",
     "shell.execute_reply": "2021-01-28T15:58:52.971831Z"
    },
    "papermill": {
     "duration": 14.5117,
     "end_time": "2021-01-28T15:58:52.972379",
     "exception": false,
     "start_time": "2021-01-28T15:58:38.460679",
     "status": "completed"
    },
    "tags": []
   },
   "outputs": [],
   "source": [
    "unzip(data_org,'fairface-img-margin025-trainval.zip')"
   ]
  },
  {
   "cell_type": "code",
   "execution_count": 9,
   "metadata": {
    "execution": {
     "iopub.execute_input": "2021-01-28T15:58:52.996373Z",
     "iopub.status.busy": "2021-01-28T15:58:52.995937Z",
     "iopub.status.idle": "2021-01-28T15:58:52.997848Z",
     "shell.execute_reply": "2021-01-28T15:58:52.997407Z"
    },
    "papermill": {
     "duration": 0.015204,
     "end_time": "2021-01-28T15:58:52.997953",
     "exception": false,
     "start_time": "2021-01-28T15:58:52.982749",
     "status": "completed"
    },
    "tags": []
   },
   "outputs": [],
   "source": [
    "#!rm fairface-img-margin025-trainval.zip"
   ]
  },
  {
   "cell_type": "code",
   "execution_count": 10,
   "metadata": {
    "execution": {
     "iopub.execute_input": "2021-01-28T15:58:53.021752Z",
     "iopub.status.busy": "2021-01-28T15:58:53.021294Z",
     "iopub.status.idle": "2021-01-28T15:58:55.283491Z",
     "shell.execute_reply": "2021-01-28T15:58:55.283968Z"
    },
    "papermill": {
     "duration": 2.276151,
     "end_time": "2021-01-28T15:58:55.284149",
     "exception": false,
     "start_time": "2021-01-28T15:58:53.007998",
     "status": "completed"
    },
    "tags": []
   },
   "outputs": [],
   "source": [
    "import pandas as pd\n",
    "train_meta = pd.read_csv('fairface_label_train.csv')\n",
    "train_meta['target_file'] =  train_meta.apply(lambda d: 'train/' + d.gender.lower() + '/' + d.file.split('/')[1], axis=1)\n",
    "val_meta = pd.read_csv('fairface_label_val.csv')\n",
    "val_meta['target_file'] =  val_meta.apply(lambda d: 'val/' + d.gender.lower() + '/' + d.file.split('/')[1], axis=1)\n"
   ]
  },
  {
   "cell_type": "code",
   "execution_count": 11,
   "metadata": {
    "execution": {
     "iopub.execute_input": "2021-01-28T15:58:55.313953Z",
     "iopub.status.busy": "2021-01-28T15:58:55.313405Z",
     "iopub.status.idle": "2021-01-28T15:58:57.792109Z",
     "shell.execute_reply": "2021-01-28T15:58:57.792456Z"
    },
    "papermill": {
     "duration": 2.495476,
     "end_time": "2021-01-28T15:58:57.792626",
     "exception": false,
     "start_time": "2021-01-28T15:58:55.297150",
     "status": "completed"
    },
    "tags": []
   },
   "outputs": [],
   "source": [
    "!rm -Rf data\n",
    "#!rm -Rf data_small"
   ]
  },
  {
   "cell_type": "code",
   "execution_count": 12,
   "metadata": {
    "execution": {
     "iopub.execute_input": "2021-01-28T15:58:57.818763Z",
     "iopub.status.busy": "2021-01-28T15:58:57.818294Z",
     "iopub.status.idle": "2021-01-28T15:59:01.180155Z",
     "shell.execute_reply": "2021-01-28T15:59:01.180589Z"
    },
    "papermill": {
     "duration": 3.377283,
     "end_time": "2021-01-28T15:59:01.180761",
     "exception": false,
     "start_time": "2021-01-28T15:58:57.803478",
     "status": "completed"
    },
    "tags": []
   },
   "outputs": [],
   "source": [
    "!mkdir -p data/train/male\n",
    "!mkdir -p data/train/female\n",
    "!mkdir -p data/val/male\n",
    "!mkdir -p data/val/female"
   ]
  },
  {
   "cell_type": "code",
   "execution_count": 13,
   "metadata": {
    "execution": {
     "iopub.execute_input": "2021-01-28T15:59:01.210764Z",
     "iopub.status.busy": "2021-01-28T15:59:01.210273Z",
     "iopub.status.idle": "2021-01-28T15:59:01.212258Z",
     "shell.execute_reply": "2021-01-28T15:59:01.212604Z"
    },
    "papermill": {
     "duration": 0.019184,
     "end_time": "2021-01-28T15:59:01.212793",
     "exception": false,
     "start_time": "2021-01-28T15:59:01.193609",
     "status": "completed"
    },
    "tags": []
   },
   "outputs": [],
   "source": [
    "import os\n",
    "import shutil\n",
    "\n",
    "def move_data(meta_data):\n",
    "    for index, row in meta_data.iterrows():\n",
    "        source = data_org+\"/\"+row['file']\n",
    "        target_file = data+\"/\"+row['target_file']\n",
    "        shutil.move(source, target_file)\n",
    "\n",
    "\n"
   ]
  },
  {
   "cell_type": "code",
   "execution_count": 14,
   "metadata": {
    "execution": {
     "iopub.execute_input": "2021-01-28T15:59:01.241096Z",
     "iopub.status.busy": "2021-01-28T15:59:01.240647Z",
     "iopub.status.idle": "2021-01-28T15:59:15.483882Z",
     "shell.execute_reply": "2021-01-28T15:59:15.483152Z"
    },
    "papermill": {
     "duration": 14.257104,
     "end_time": "2021-01-28T15:59:15.484020",
     "exception": false,
     "start_time": "2021-01-28T15:59:01.226916",
     "status": "completed"
    },
    "tags": []
   },
   "outputs": [],
   "source": [
    "move_data(train_meta)\n",
    "move_data(val_meta)"
   ]
  },
  {
   "cell_type": "code",
   "execution_count": 15,
   "metadata": {
    "execution": {
     "iopub.execute_input": "2021-01-28T15:59:18.564263Z",
     "iopub.status.busy": "2021-01-28T15:59:18.561405Z",
     "iopub.status.idle": "2021-01-28T15:59:19.373121Z",
     "shell.execute_reply": "2021-01-28T15:59:19.372633Z"
    },
    "papermill": {
     "duration": 3.87643,
     "end_time": "2021-01-28T15:59:19.373265",
     "exception": false,
     "start_time": "2021-01-28T15:59:15.496835",
     "status": "completed"
    },
    "tags": []
   },
   "outputs": [],
   "source": [
    "!rm -Rf data_org"
   ]
  },
  {
   "cell_type": "code",
   "execution_count": 2,
   "metadata": {
    "papermill": {
     "duration": 0.279047,
     "end_time": "2021-01-28T15:59:19.664036",
     "exception": false,
     "start_time": "2021-01-28T15:59:19.384989",
     "status": "completed"
    },
    "tags": []
   },
   "outputs": [
    {
     "name": "stderr",
     "output_type": "stream",
     "text": [
      "cp: -r not specified; omitting directory './val'\n",
      "cp: -r not specified; omitting directory './val/female'\n",
      "cp: -r not specified; omitting directory '.'\n",
      "cp: -r not specified; omitting directory './train/female'\n",
      "cp: -r not specified; omitting directory './train/male'\n",
      "cp: -r not specified; omitting directory './train'\n",
      "cp: -r not specified; omitting directory './val/male'\n"
     ]
    }
   ],
   "source": [
    "%%bash\n",
    "mkdir -p data_small/train/male\n",
    "mkdir -p data_small/train/female\n",
    "mkdir -p data_small/val/male\n",
    "mkdir -p data_small/val/female\n",
    "cd data\n",
    "for file in `find . |shuf -n 100`; do cp $file ../data_small/$file; done\n",
    "cd ..\n"
   ]
  },
  {
   "cell_type": "code",
   "execution_count": 11,
   "metadata": {
    "papermill": {
     "duration": 0.051804,
     "end_time": "2021-01-28T15:59:19.759063",
     "exception": false,
     "start_time": "2021-01-28T15:59:19.707259",
     "status": "completed"
    },
    "tags": []
   },
   "outputs": [
    {
     "name": "stdout",
     "output_type": "stream",
     "text": [
      "adding data to data.zip\n",
      "adding data_small to data_small.zip\n"
     ]
    }
   ],
   "source": [
    "zipdir('data.zip', data)\n",
    "zipdir('data_small.zip', data_small)"
   ]
  },
  {
   "cell_type": "code",
   "execution_count": 19,
   "metadata": {
    "execution": {
     "iopub.execute_input": "2021-01-28T15:59:19.786936Z",
     "iopub.status.busy": "2021-01-28T15:59:19.786357Z",
     "iopub.status.idle": "2021-01-28T15:59:31.474740Z",
     "shell.execute_reply": "2021-01-28T15:59:31.475117Z"
    },
    "papermill": {
     "duration": 11.704342,
     "end_time": "2021-01-28T15:59:31.475278",
     "exception": false,
     "start_time": "2021-01-28T15:59:19.770936",
     "status": "completed"
    },
    "tags": []
   },
   "outputs": [],
   "source": [
    "!rm -Rf data"
   ]
  }
 ],
 "metadata": {
  "kernelspec": {
   "display_name": "Python 3",
   "language": "python",
   "name": "python3"
  },
  "language_info": {
   "codemirror_mode": {
    "name": "ipython",
    "version": 3
   },
   "file_extension": ".py",
   "mimetype": "text/x-python",
   "name": "python",
   "nbconvert_exporter": "python",
   "pygments_lexer": "ipython3",
   "version": "3.8.6"
  },
  "papermill": {
   "default_parameters": {},
   "duration": 58.773456,
   "end_time": "2021-01-28T15:59:31.793296",
   "environment_variables": {},
   "exception": null,
   "input_path": "/home/jovyan/work/elyra-classification/prepare-data-fairface-img-margin025-trainval.ipynb",
   "output_path": "/home/jovyan/work/elyra-classification/prepare-data-fairface-img-margin025-trainval.ipynb",
   "parameters": {},
   "start_time": "2021-01-28T15:58:33.019840",
   "version": "2.2.2"
  }
 },
 "nbformat": 4,
 "nbformat_minor": 4
}
