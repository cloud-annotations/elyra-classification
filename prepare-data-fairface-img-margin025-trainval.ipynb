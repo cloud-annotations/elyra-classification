{
 "cells": [
  {
   "cell_type": "code",
   "execution_count": null,
   "metadata": {},
   "outputs": [],
   "source": [
    "!pip install import_ipynb"
   ]
  },
  {
   "cell_type": "code",
   "execution_count": 3,
   "metadata": {},
   "outputs": [],
   "source": [
    "import import_ipynb\n",
    "from codait_utils import *"
   ]
  },
  {
   "cell_type": "code",
   "execution_count": null,
   "metadata": {},
   "outputs": [],
   "source": [
    "#https://github.com/joojs/fairface\n",
    "#https://drive.google.com/file/d/1Z1RqRo0_JiavaZw2yzZG6WETdZQ8qX86/view?usp=sharing"
   ]
  },
  {
   "cell_type": "code",
   "execution_count": 5,
   "metadata": {},
   "outputs": [],
   "source": [
    "#TODO define as env for Elyra to read\n",
    "data_org = 'data_org'\n",
    "data = 'data'"
   ]
  },
  {
   "cell_type": "code",
   "execution_count": null,
   "metadata": {},
   "outputs": [],
   "source": [
    "#!pip install gdown"
   ]
  },
  {
   "cell_type": "code",
   "execution_count": null,
   "metadata": {},
   "outputs": [],
   "source": [
    "#!gdown https://doc-0c-a8-docs.googleusercontent.com/docs/securesc/3apigs1js65g4al51r7a92utg30ku80n/lhuiqcj2gipuq5gotsr7qo5r347fdlh2/1611392700000/03161587497725415728/12172510880171081388/1i1L3Yqwaio7YSOCj7ftgk8ZZchPG7dmH?e=download&authuser=0&nonce=q71e4gvq409ve&user=12172510880171081388&hash=4t0km7e33d324nl13jnel7sb5q8tl3e2"
   ]
  },
  {
   "cell_type": "code",
   "execution_count": null,
   "metadata": {},
   "outputs": [],
   "source": [
    "!mkdir data_org"
   ]
  },
  {
   "cell_type": "code",
   "execution_count": null,
   "metadata": {},
   "outputs": [],
   "source": [
    "import zipfile\n",
    "with zipfile.ZipFile('fairface-img-margin025-trainval.zip', 'r') as zip_ref:\n",
    "    zip_ref.extractall(data_org)"
   ]
  },
  {
   "cell_type": "code",
   "execution_count": null,
   "metadata": {},
   "outputs": [],
   "source": [
    "#!rm fairface-img-margin025-trainval.zip"
   ]
  },
  {
   "cell_type": "code",
   "execution_count": null,
   "metadata": {},
   "outputs": [],
   "source": [
    "import pandas as pd\n",
    "train_meta = pd.read_csv('fairface_label_train.csv')\n",
    "train_meta['target_file'] =  train_meta.apply(lambda d: 'train/' + d.gender.lower() + '/' + d.file.split('/')[1], axis=1)\n",
    "val_meta = pd.read_csv('fairface_label_val.csv')\n",
    "val_meta['target_file'] =  val_meta.apply(lambda d: 'val/' + d.gender.lower() + '/' + d.file.split('/')[1], axis=1)\n"
   ]
  },
  {
   "cell_type": "code",
   "execution_count": null,
   "metadata": {},
   "outputs": [],
   "source": [
    "val_meta"
   ]
  },
  {
   "cell_type": "code",
   "execution_count": null,
   "metadata": {},
   "outputs": [],
   "source": [
    "!rm -Rf data\n",
    "#!rm -Rf data_small"
   ]
  },
  {
   "cell_type": "code",
   "execution_count": null,
   "metadata": {},
   "outputs": [],
   "source": [
    "!mkdir -p data/train/male\n",
    "!mkdir -p data/train/female\n",
    "!mkdir -p data/val/male\n",
    "!mkdir -p data/val/female"
   ]
  },
  {
   "cell_type": "code",
   "execution_count": null,
   "metadata": {},
   "outputs": [],
   "source": [
    "import os\n",
    "import shutil\n",
    "\n",
    "def move_data(meta_data):\n",
    "    for index, row in meta_data.iterrows():\n",
    "        source = data_org+\"/\"+row['file']\n",
    "        target_file = data+\"/\"+row['target_file']\n",
    "        shutil.move(source, target_file)\n",
    "\n",
    "\n"
   ]
  },
  {
   "cell_type": "code",
   "execution_count": null,
   "metadata": {},
   "outputs": [],
   "source": [
    "move_data(train_meta)\n",
    "move_data(val_meta)"
   ]
  },
  {
   "cell_type": "code",
   "execution_count": null,
   "metadata": {},
   "outputs": [],
   "source": [
    "!rm -Rf data_org"
   ]
  },
  {
   "cell_type": "code",
   "execution_count": null,
   "metadata": {},
   "outputs": [],
   "source": [
    "\"\"\"%%bash\n",
    "mkdir -p data_small/train/male\n",
    "mkdir -p data_small/train/female\n",
    "mkdir -p data_small/val/male\n",
    "mkdir -p data_small/val/female\n",
    "cd data\n",
    "for file in `find . |shuf -n 100`; do cp $file ../data_small/$file; done\n",
    "cd ..\n",
    "\"\"\""
   ]
  },
  {
   "cell_type": "code",
   "execution_count": 6,
   "metadata": {},
   "outputs": [
    {
     "name": "stdout",
     "output_type": "stream",
     "text": [
      "adding data to data.zip\n"
     ]
    },
    {
     "ename": "NameError",
     "evalue": "name 'ziph' is not defined",
     "output_type": "error",
     "traceback": [
      "\u001b[0;31m---------------------------------------------------------------------------\u001b[0m",
      "\u001b[0;31mNameError\u001b[0m                                 Traceback (most recent call last)",
      "\u001b[0;32m<ipython-input-6-445710fb5ec5>\u001b[0m in \u001b[0;36m<module>\u001b[0;34m\u001b[0m\n\u001b[0;32m----> 1\u001b[0;31m \u001b[0mzipdir\u001b[0m\u001b[0;34m(\u001b[0m\u001b[0;34m'data.zip'\u001b[0m\u001b[0;34m,\u001b[0m \u001b[0mdata\u001b[0m\u001b[0;34m)\u001b[0m\u001b[0;34m\u001b[0m\u001b[0;34m\u001b[0m\u001b[0m\n\u001b[0m",
      "\u001b[0;32m~/work/elyra-classification/codait_utils.ipynb\u001b[0m in \u001b[0;36mzipdir\u001b[0;34m(target, path)\u001b[0m\n",
      "\u001b[0;31mNameError\u001b[0m: name 'ziph' is not defined"
     ]
    }
   ],
   "source": [
    "zipdir('data.zip', data)"
   ]
  },
  {
   "cell_type": "code",
   "execution_count": null,
   "metadata": {},
   "outputs": [],
   "source": []
  }
 ],
 "metadata": {
  "kernelspec": {
   "display_name": "Python 3",
   "language": "python",
   "name": "python3"
  },
  "language_info": {
   "codemirror_mode": {
    "name": "ipython",
    "version": 3
   },
   "file_extension": ".py",
   "mimetype": "text/x-python",
   "name": "python",
   "nbconvert_exporter": "python",
   "pygments_lexer": "ipython3",
   "version": "3.8.6"
  },
  "papermill": {
   "default_parameters": {},
   "duration": 40.447994,
   "end_time": "2021-01-20T10:19:24.429128",
   "environment_variables": {},
   "exception": null,
   "input_path": "/home/jovyan/work/elyra-classification/prepare-data-trusted-ai.ipynb",
   "output_path": "/home/jovyan/work/elyra-classification/prepare-data-trusted-ai.ipynb",
   "parameters": {},
   "start_time": "2021-01-20T10:18:43.981134",
   "version": "2.2.2"
  }
 },
 "nbformat": 4,
 "nbformat_minor": 4
}
