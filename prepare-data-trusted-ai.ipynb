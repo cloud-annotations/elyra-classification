{
 "cells": [
  {
   "cell_type": "code",
   "execution_count": 1,
   "metadata": {
    "execution": {
     "iopub.execute_input": "2021-01-20T10:18:44.640708Z",
     "iopub.status.busy": "2021-01-20T10:18:44.639810Z",
     "iopub.status.idle": "2021-01-20T10:19:24.195206Z",
     "shell.execute_reply": "2021-01-20T10:19:24.194553Z"
    },
    "papermill": {
     "duration": 39.568419,
     "end_time": "2021-01-20T10:19:24.195430",
     "exception": false,
     "start_time": "2021-01-20T10:18:44.627011",
     "status": "completed"
    },
    "tags": []
   },
   "outputs": [
    {
     "name": "stdout",
     "output_type": "stream",
     "text": [
      "Cloning into 'woman-man-recog'...\r\n"
     ]
    },
    {
     "name": "stdout",
     "output_type": "stream",
     "text": [
      "remote: Enumerating objects: 7289, done.\u001b[K\r\n"
     ]
    },
    {
     "name": "stdout",
     "output_type": "stream",
     "text": [
      "Receiving objects:   0% (1/7289)\r"
     ]
    },
    {
     "name": "stdout",
     "output_type": "stream",
     "text": [
      "Receiving objects:   0% (16/7289), 1.76 MiB | 1.74 MiB/s\r"
     ]
    },
    {
     "name": "stdout",
     "output_type": "stream",
     "text": [
      "Receiving objects:   1% (73/7289), 3.61 MiB | 2.38 MiB/s\r",
      "Receiving objects:   2% (146/7289), 3.61 MiB | 2.38 MiB/s\r"
     ]
    },
    {
     "name": "stdout",
     "output_type": "stream",
     "text": [
      "Receiving objects:   3% (219/7289), 3.61 MiB | 2.38 MiB/s\r"
     ]
    },
    {
     "name": "stdout",
     "output_type": "stream",
     "text": [
      "Receiving objects:   4% (292/7289), 3.61 MiB | 2.38 MiB/s\r",
      "Receiving objects:   5% (365/7289), 3.61 MiB | 2.38 MiB/s\r"
     ]
    },
    {
     "name": "stdout",
     "output_type": "stream",
     "text": [
      "Receiving objects:   6% (438/7289), 3.61 MiB | 2.38 MiB/s\r"
     ]
    },
    {
     "name": "stdout",
     "output_type": "stream",
     "text": [
      "Receiving objects:   7% (511/7289), 3.61 MiB | 2.38 MiB/s\r",
      "Receiving objects:   7% (577/7289), 3.61 MiB | 2.38 MiB/s\r",
      "Receiving objects:   8% (584/7289), 3.61 MiB | 2.38 MiB/s\r"
     ]
    },
    {
     "name": "stdout",
     "output_type": "stream",
     "text": [
      "Receiving objects:   9% (657/7289), 6.40 MiB | 3.17 MiB/s\r"
     ]
    },
    {
     "name": "stdout",
     "output_type": "stream",
     "text": [
      "Receiving objects:  10% (729/7289), 6.40 MiB | 3.17 MiB/s\r"
     ]
    },
    {
     "name": "stdout",
     "output_type": "stream",
     "text": [
      "Receiving objects:  10% (741/7289), 13.92 MiB | 4.60 MiB/s\r"
     ]
    },
    {
     "name": "stdout",
     "output_type": "stream",
     "text": [
      "Receiving objects:  11% (802/7289), 13.92 MiB | 4.60 MiB/s\r"
     ]
    },
    {
     "name": "stdout",
     "output_type": "stream",
     "text": [
      "Receiving objects:  12% (875/7289), 13.92 MiB | 4.60 MiB/s\r"
     ]
    },
    {
     "name": "stdout",
     "output_type": "stream",
     "text": [
      "Receiving objects:  13% (948/7289), 13.92 MiB | 4.60 MiB/s\r"
     ]
    },
    {
     "name": "stdout",
     "output_type": "stream",
     "text": [
      "Receiving objects:  14% (1021/7289), 13.92 MiB | 4.60 MiB/s\r"
     ]
    },
    {
     "name": "stdout",
     "output_type": "stream",
     "text": [
      "Receiving objects:  15% (1094/7289), 13.92 MiB | 4.60 MiB/s\r"
     ]
    },
    {
     "name": "stdout",
     "output_type": "stream",
     "text": [
      "Receiving objects:  16% (1167/7289), 13.92 MiB | 4.60 MiB/s\r",
      "Receiving objects:  17% (1240/7289), 13.92 MiB | 4.60 MiB/s\r",
      "Receiving objects:  18% (1313/7289), 13.92 MiB | 4.60 MiB/s\r"
     ]
    },
    {
     "name": "stdout",
     "output_type": "stream",
     "text": [
      "Receiving objects:  19% (1385/7289), 17.52 MiB | 4.97 MiB/s\r"
     ]
    },
    {
     "name": "stdout",
     "output_type": "stream",
     "text": [
      "Receiving objects:  20% (1458/7289), 17.52 MiB | 4.97 MiB/s\r"
     ]
    },
    {
     "name": "stdout",
     "output_type": "stream",
     "text": [
      "Receiving objects:  21% (1531/7289), 17.52 MiB | 4.97 MiB/s\r",
      "Receiving objects:  22% (1604/7289), 17.52 MiB | 4.97 MiB/s\r"
     ]
    },
    {
     "name": "stdout",
     "output_type": "stream",
     "text": [
      "Receiving objects:  23% (1677/7289), 17.52 MiB | 4.97 MiB/s\r"
     ]
    },
    {
     "name": "stdout",
     "output_type": "stream",
     "text": [
      "Receiving objects:  24% (1750/7289), 17.52 MiB | 4.97 MiB/s\r"
     ]
    },
    {
     "name": "stdout",
     "output_type": "stream",
     "text": [
      "Receiving objects:  25% (1823/7289), 17.52 MiB | 4.97 MiB/s\r"
     ]
    },
    {
     "name": "stdout",
     "output_type": "stream",
     "text": [
      "Receiving objects:  26% (1896/7289), 17.52 MiB | 4.97 MiB/s\r"
     ]
    },
    {
     "name": "stdout",
     "output_type": "stream",
     "text": [
      "Receiving objects:  27% (1969/7289), 17.52 MiB | 4.97 MiB/s\r"
     ]
    },
    {
     "name": "stdout",
     "output_type": "stream",
     "text": [
      "Receiving objects:  28% (2041/7289), 17.52 MiB | 4.97 MiB/s\r",
      "Receiving objects:  29% (2114/7289), 17.52 MiB | 4.97 MiB/s\r",
      "Receiving objects:  29% (2132/7289), 17.52 MiB | 4.97 MiB/s\r"
     ]
    },
    {
     "name": "stdout",
     "output_type": "stream",
     "text": [
      "Receiving objects:  30% (2187/7289), 21.46 MiB | 5.32 MiB/s\r"
     ]
    },
    {
     "name": "stdout",
     "output_type": "stream",
     "text": [
      "Receiving objects:  31% (2260/7289), 21.46 MiB | 5.32 MiB/s\r"
     ]
    },
    {
     "name": "stdout",
     "output_type": "stream",
     "text": [
      "Receiving objects:  32% (2333/7289), 21.46 MiB | 5.32 MiB/s\r"
     ]
    },
    {
     "name": "stdout",
     "output_type": "stream",
     "text": [
      "Receiving objects:  33% (2406/7289), 21.46 MiB | 5.32 MiB/s\r",
      "Receiving objects:  34% (2479/7289), 21.46 MiB | 5.32 MiB/s\r"
     ]
    },
    {
     "name": "stdout",
     "output_type": "stream",
     "text": [
      "Receiving objects:  35% (2552/7289), 21.46 MiB | 5.32 MiB/s\r"
     ]
    },
    {
     "name": "stdout",
     "output_type": "stream",
     "text": [
      "Receiving objects:  36% (2625/7289), 21.46 MiB | 5.32 MiB/s\r"
     ]
    },
    {
     "name": "stdout",
     "output_type": "stream",
     "text": [
      "Receiving objects:  37% (2697/7289), 21.46 MiB | 5.32 MiB/s\r"
     ]
    },
    {
     "name": "stdout",
     "output_type": "stream",
     "text": [
      "Receiving objects:  38% (2770/7289), 21.46 MiB | 5.32 MiB/s\r",
      "Receiving objects:  39% (2843/7289), 21.46 MiB | 5.32 MiB/s\r"
     ]
    },
    {
     "name": "stdout",
     "output_type": "stream",
     "text": [
      "Receiving objects:  40% (2916/7289), 21.46 MiB | 5.32 MiB/s\r"
     ]
    },
    {
     "name": "stdout",
     "output_type": "stream",
     "text": [
      "Receiving objects:  41% (2989/7289), 21.46 MiB | 5.32 MiB/s\r"
     ]
    },
    {
     "name": "stdout",
     "output_type": "stream",
     "text": [
      "Receiving objects:  42% (3062/7289), 25.23 MiB | 5.57 MiB/s\r"
     ]
    },
    {
     "name": "stdout",
     "output_type": "stream",
     "text": [
      "Receiving objects:  42% (3106/7289), 25.23 MiB | 5.57 MiB/s\r"
     ]
    },
    {
     "name": "stdout",
     "output_type": "stream",
     "text": [
      "Receiving objects:  43% (3135/7289), 29.12 MiB | 6.29 MiB/s\r"
     ]
    },
    {
     "name": "stdout",
     "output_type": "stream",
     "text": [
      "Receiving objects:  44% (3208/7289), 33.18 MiB | 6.95 MiB/s\r"
     ]
    },
    {
     "name": "stdout",
     "output_type": "stream",
     "text": [
      "Receiving objects:  44% (3232/7289), 33.18 MiB | 6.95 MiB/s\r"
     ]
    },
    {
     "name": "stdout",
     "output_type": "stream",
     "text": [
      "Receiving objects:  45% (3281/7289), 36.39 MiB | 7.25 MiB/s\r"
     ]
    },
    {
     "name": "stdout",
     "output_type": "stream",
     "text": [
      "Receiving objects:  46% (3353/7289), 38.86 MiB | 7.18 MiB/s\r"
     ]
    },
    {
     "name": "stdout",
     "output_type": "stream",
     "text": [
      "Receiving objects:  47% (3426/7289), 38.86 MiB | 7.18 MiB/s\r",
      "Receiving objects:  48% (3499/7289), 38.86 MiB | 7.18 MiB/s\r",
      "Receiving objects:  49% (3572/7289), 38.86 MiB | 7.18 MiB/s\r"
     ]
    },
    {
     "name": "stdout",
     "output_type": "stream",
     "text": [
      "Receiving objects:  50% (3645/7289), 38.86 MiB | 7.18 MiB/s\r",
      "Receiving objects:  51% (3718/7289), 38.86 MiB | 7.18 MiB/s\r"
     ]
    },
    {
     "name": "stdout",
     "output_type": "stream",
     "text": [
      "Receiving objects:  52% (3791/7289), 38.86 MiB | 7.18 MiB/s\r",
      "Receiving objects:  53% (3864/7289), 38.86 MiB | 7.18 MiB/s\r"
     ]
    },
    {
     "name": "stdout",
     "output_type": "stream",
     "text": [
      "Receiving objects:  54% (3937/7289), 38.86 MiB | 7.18 MiB/s\r",
      "Receiving objects:  55% (4009/7289), 38.86 MiB | 7.18 MiB/s\r"
     ]
    },
    {
     "name": "stdout",
     "output_type": "stream",
     "text": [
      "Receiving objects:  56% (4082/7289), 38.86 MiB | 7.18 MiB/s\r",
      "Receiving objects:  57% (4155/7289), 38.86 MiB | 7.18 MiB/s\r"
     ]
    },
    {
     "name": "stdout",
     "output_type": "stream",
     "text": [
      "Receiving objects:  58% (4228/7289), 38.86 MiB | 7.18 MiB/s\r"
     ]
    },
    {
     "name": "stdout",
     "output_type": "stream",
     "text": [
      "Receiving objects:  58% (4283/7289), 38.86 MiB | 7.18 MiB/s\r"
     ]
    },
    {
     "name": "stdout",
     "output_type": "stream",
     "text": [
      "Receiving objects:  59% (4301/7289), 42.64 MiB | 7.27 MiB/s\r"
     ]
    },
    {
     "name": "stdout",
     "output_type": "stream",
     "text": [
      "Receiving objects:  59% (4344/7289), 46.13 MiB | 7.14 MiB/s\r"
     ]
    },
    {
     "name": "stdout",
     "output_type": "stream",
     "text": [
      "Receiving objects:  60% (4374/7289), 53.01 MiB | 7.00 MiB/s\r"
     ]
    },
    {
     "name": "stdout",
     "output_type": "stream",
     "text": [
      "Receiving objects:  60% (4394/7289), 53.01 MiB | 7.00 MiB/s\r"
     ]
    },
    {
     "name": "stdout",
     "output_type": "stream",
     "text": [
      "Receiving objects:  60% (4444/7289), 59.88 MiB | 6.77 MiB/s\r"
     ]
    },
    {
     "name": "stdout",
     "output_type": "stream",
     "text": [
      "Receiving objects:  61% (4447/7289), 59.88 MiB | 6.77 MiB/s\r"
     ]
    },
    {
     "name": "stdout",
     "output_type": "stream",
     "text": [
      "Receiving objects:  61% (4503/7289), 66.65 MiB | 6.65 MiB/s\r"
     ]
    },
    {
     "name": "stdout",
     "output_type": "stream",
     "text": [
      "Receiving objects:  62% (4520/7289), 70.19 MiB | 6.89 MiB/s\r"
     ]
    },
    {
     "name": "stdout",
     "output_type": "stream",
     "text": [
      "Receiving objects:  62% (4565/7289), 73.93 MiB | 6.88 MiB/s\r"
     ]
    },
    {
     "name": "stdout",
     "output_type": "stream",
     "text": [
      "Receiving objects:  63% (4593/7289), 77.82 MiB | 6.97 MiB/s\r"
     ]
    },
    {
     "name": "stdout",
     "output_type": "stream",
     "text": [
      "Receiving objects:  63% (4627/7289), 81.10 MiB | 6.85 MiB/s\r"
     ]
    },
    {
     "name": "stdout",
     "output_type": "stream",
     "text": [
      "Receiving objects:  64% (4665/7289), 84.56 MiB | 6.94 MiB/s\r"
     ]
    },
    {
     "name": "stdout",
     "output_type": "stream",
     "text": [
      "Receiving objects:  64% (4695/7289), 87.75 MiB | 6.94 MiB/s\r"
     ]
    },
    {
     "name": "stdout",
     "output_type": "stream",
     "text": [
      "Receiving objects:  65% (4738/7289), 93.70 MiB | 6.79 MiB/s\r"
     ]
    },
    {
     "name": "stdout",
     "output_type": "stream",
     "text": [
      "Receiving objects:  65% (4752/7289), 93.70 MiB | 6.79 MiB/s\r"
     ]
    },
    {
     "name": "stdout",
     "output_type": "stream",
     "text": [
      "Receiving objects:  66% (4811/7289), 100.54 MiB | 6.74 MiB/s\r"
     ]
    },
    {
     "name": "stdout",
     "output_type": "stream",
     "text": [
      "Receiving objects:  66% (4823/7289), 100.54 MiB | 6.74 MiB/s\r"
     ]
    },
    {
     "name": "stdout",
     "output_type": "stream",
     "text": [
      "Receiving objects:  67% (4884/7289), 108.00 MiB | 6.69 MiB/s\r"
     ]
    },
    {
     "name": "stdout",
     "output_type": "stream",
     "text": [
      "Receiving objects:  67% (4902/7289), 108.00 MiB | 6.69 MiB/s\r"
     ]
    },
    {
     "name": "stdout",
     "output_type": "stream",
     "text": [
      "Receiving objects:  68% (4957/7289), 115.24 MiB | 6.76 MiB/s\r"
     ]
    },
    {
     "name": "stdout",
     "output_type": "stream",
     "text": [
      "Receiving objects:  68% (4967/7289), 115.24 MiB | 6.76 MiB/s\r"
     ]
    },
    {
     "name": "stdout",
     "output_type": "stream",
     "text": [
      "Receiving objects:  68% (5018/7289), 120.16 MiB | 6.39 MiB/s\r"
     ]
    },
    {
     "name": "stdout",
     "output_type": "stream",
     "text": [
      "Receiving objects:  69% (5030/7289), 122.55 MiB | 6.34 MiB/s\r"
     ]
    },
    {
     "name": "stdout",
     "output_type": "stream",
     "text": [
      "Receiving objects:  69% (5058/7289), 125.50 MiB | 6.25 MiB/s\r"
     ]
    },
    {
     "name": "stdout",
     "output_type": "stream",
     "text": [
      "Receiving objects:  69% (5100/7289), 130.42 MiB | 5.72 MiB/s\r"
     ]
    },
    {
     "name": "stdout",
     "output_type": "stream",
     "text": [
      "Receiving objects:  70% (5103/7289), 130.42 MiB | 5.72 MiB/s\r"
     ]
    },
    {
     "name": "stdout",
     "output_type": "stream",
     "text": [
      "Receiving objects:  70% (5166/7289), 137.43 MiB | 5.57 MiB/s\r"
     ]
    },
    {
     "name": "stdout",
     "output_type": "stream",
     "text": [
      "Receiving objects:  71% (5176/7289), 141.46 MiB | 5.79 MiB/s\r"
     ]
    },
    {
     "name": "stdout",
     "output_type": "stream",
     "text": [
      "Receiving objects:  71% (5237/7289), 145.99 MiB | 6.24 MiB/s\r"
     ]
    },
    {
     "name": "stdout",
     "output_type": "stream",
     "text": [
      "Receiving objects:  72% (5249/7289), 149.18 MiB | 6.43 MiB/s\r"
     ]
    },
    {
     "name": "stdout",
     "output_type": "stream",
     "text": [
      "Receiving objects:  72% (5271/7289), 151.21 MiB | 6.34 MiB/s\r"
     ]
    },
    {
     "name": "stdout",
     "output_type": "stream",
     "text": [
      "Receiving objects:  72% (5315/7289), 156.05 MiB | 6.24 MiB/s\r"
     ]
    },
    {
     "name": "stdout",
     "output_type": "stream",
     "text": [
      "Receiving objects:  73% (5321/7289), 156.05 MiB | 6.24 MiB/s\r"
     ]
    },
    {
     "name": "stdout",
     "output_type": "stream",
     "text": [
      "Receiving objects:  74% (5394/7289), 164.18 MiB | 6.84 MiB/s\r"
     ]
    },
    {
     "name": "stdout",
     "output_type": "stream",
     "text": [
      "Receiving objects:  74% (5397/7289), 164.18 MiB | 6.84 MiB/s\r"
     ]
    },
    {
     "name": "stdout",
     "output_type": "stream",
     "text": [
      "Receiving objects:  74% (5465/7289), 171.95 MiB | 6.71 MiB/s\r",
      "Receiving objects:  75% (5467/7289), 171.95 MiB | 6.71 MiB/s\r"
     ]
    },
    {
     "name": "stdout",
     "output_type": "stream",
     "text": [
      "Receiving objects:  75% (5529/7289), 176.74 MiB | 6.07 MiB/s\r"
     ]
    },
    {
     "name": "stdout",
     "output_type": "stream",
     "text": [
      "Receiving objects:  76% (5540/7289), 176.74 MiB | 6.07 MiB/s\r"
     ]
    },
    {
     "name": "stdout",
     "output_type": "stream",
     "text": [
      "Receiving objects:  76% (5612/7289), 184.58 MiB | 6.81 MiB/s\r",
      "Receiving objects:  77% (5613/7289), 184.58 MiB | 6.81 MiB/s\r"
     ]
    },
    {
     "name": "stdout",
     "output_type": "stream",
     "text": [
      "Receiving objects:  78% (5686/7289), 188.40 MiB | 7.12 MiB/s\r"
     ]
    },
    {
     "name": "stdout",
     "output_type": "stream",
     "text": [
      "Receiving objects:  79% (5759/7289), 191.88 MiB | 7.02 MiB/s\r"
     ]
    },
    {
     "name": "stdout",
     "output_type": "stream",
     "text": [
      "Receiving objects:  80% (5832/7289), 191.88 MiB | 7.02 MiB/s\r"
     ]
    },
    {
     "name": "stdout",
     "output_type": "stream",
     "text": [
      "Receiving objects:  81% (5905/7289), 191.88 MiB | 7.02 MiB/s\r",
      "Receiving objects:  82% (5977/7289), 191.88 MiB | 7.02 MiB/s\r"
     ]
    },
    {
     "name": "stdout",
     "output_type": "stream",
     "text": [
      "Receiving objects:  83% (6050/7289), 191.88 MiB | 7.02 MiB/s\r"
     ]
    },
    {
     "name": "stdout",
     "output_type": "stream",
     "text": [
      "Receiving objects:  84% (6123/7289), 191.88 MiB | 7.02 MiB/s\r",
      "Receiving objects:  85% (6196/7289), 191.88 MiB | 7.02 MiB/s\r"
     ]
    },
    {
     "name": "stdout",
     "output_type": "stream",
     "text": [
      "Receiving objects:  86% (6269/7289), 191.88 MiB | 7.02 MiB/s\r",
      "Receiving objects:  86% (6340/7289), 191.88 MiB | 7.02 MiB/s\r",
      "Receiving objects:  87% (6342/7289), 191.88 MiB | 7.02 MiB/s\r"
     ]
    },
    {
     "name": "stdout",
     "output_type": "stream",
     "text": [
      "Receiving objects:  88% (6415/7289), 191.88 MiB | 7.02 MiB/s\r"
     ]
    },
    {
     "name": "stdout",
     "output_type": "stream",
     "text": [
      "Receiving objects:  89% (6488/7289), 191.88 MiB | 7.02 MiB/s\r"
     ]
    },
    {
     "name": "stdout",
     "output_type": "stream",
     "text": [
      "Receiving objects:  90% (6561/7289), 191.88 MiB | 7.02 MiB/s\r"
     ]
    },
    {
     "name": "stdout",
     "output_type": "stream",
     "text": [
      "Receiving objects:  91% (6633/7289), 191.88 MiB | 7.02 MiB/s\r"
     ]
    },
    {
     "name": "stdout",
     "output_type": "stream",
     "text": [
      "Receiving objects:  92% (6706/7289), 195.31 MiB | 6.86 MiB/s\r",
      "Receiving objects:  93% (6779/7289), 195.31 MiB | 6.86 MiB/s\r"
     ]
    },
    {
     "name": "stdout",
     "output_type": "stream",
     "text": [
      "Receiving objects:  94% (6852/7289), 195.31 MiB | 6.86 MiB/s\r"
     ]
    },
    {
     "name": "stdout",
     "output_type": "stream",
     "text": [
      "Receiving objects:  95% (6925/7289), 195.31 MiB | 6.86 MiB/s\r"
     ]
    },
    {
     "name": "stdout",
     "output_type": "stream",
     "text": [
      "Receiving objects:  96% (6998/7289), 195.31 MiB | 6.86 MiB/s\r"
     ]
    },
    {
     "name": "stdout",
     "output_type": "stream",
     "text": [
      "Receiving objects:  97% (7071/7289), 195.31 MiB | 6.86 MiB/s\r"
     ]
    },
    {
     "name": "stdout",
     "output_type": "stream",
     "text": [
      "Receiving objects:  98% (7144/7289), 195.31 MiB | 6.86 MiB/s\r"
     ]
    },
    {
     "name": "stdout",
     "output_type": "stream",
     "text": [
      "Receiving objects:  99% (7217/7289), 195.31 MiB | 6.86 MiB/s\r"
     ]
    },
    {
     "name": "stdout",
     "output_type": "stream",
     "text": [
      "remote: Total 7289 (delta 0), reused 0 (delta 0), pack-reused 7289\u001b[K\r\n",
      "Receiving objects: 100% (7289/7289), 195.31 MiB | 6.86 MiB/s\r",
      "Receiving objects: 100% (7289/7289), 198.26 MiB | 6.46 MiB/s, done.\r\n",
      "Resolving deltas:   0% (0/62)\r",
      "Resolving deltas:   1% (1/62)\r",
      "Resolving deltas:   8% (5/62)\r",
      "Resolving deltas:   9% (6/62)\r",
      "Resolving deltas:  11% (7/62)\r",
      "Resolving deltas:  12% (8/62)\r",
      "Resolving deltas:  14% (9/62)\r",
      "Resolving deltas:  16% (10/62)\r",
      "Resolving deltas:  20% (13/62)\r",
      "Resolving deltas:  29% (18/62)\r",
      "Resolving deltas:  30% (19/62)\r",
      "Resolving deltas:  32% (20/62)\r",
      "Resolving deltas:  33% (21/62)\r",
      "Resolving deltas:  46% (29/62)\r",
      "Resolving deltas:  48% (30/62)\r",
      "Resolving deltas:  50% (31/62)\r",
      "Resolving deltas:  56% (35/62)\r",
      "Resolving deltas:  64% (40/62)\r",
      "Resolving deltas:  66% (41/62)\r",
      "Resolving deltas:  69% (43/62)\r",
      "Resolving deltas:  70% (44/62)\r",
      "Resolving deltas:  72% (45/62)\r",
      "Resolving deltas:  75% (47/62)\r",
      "Resolving deltas:  83% (52/62)\r",
      "Resolving deltas:  87% (54/62)\r",
      "Resolving deltas:  90% (56/62)\r",
      "Resolving deltas:  91% (57/62)\r",
      "Resolving deltas:  93% (58/62)\r",
      "Resolving deltas:  95% (59/62)\r",
      "Resolving deltas:  96% (60/62)\r",
      "Resolving deltas: 100% (62/62)\r",
      "Resolving deltas: 100% (62/62), done.\r\n"
     ]
    }
   ],
   "source": [
    "!git clone https://github.com/romeokienzler/woman-man-recog.git\n",
    "!rm -Rf data\n",
    "!mkdir data\n",
    "!cp -r woman-man-recog/man data/\n",
    "!cp -r woman-man-recog/woman data/\n",
    "!rm -Rf woman-man-recog"
   ]
  }
 ],
 "metadata": {
  "kernelspec": {
   "display_name": "Python 3",
   "language": "python",
   "name": "python3"
  },
  "language_info": {
   "codemirror_mode": {
    "name": "ipython",
    "version": 3
   },
   "file_extension": ".py",
   "mimetype": "text/x-python",
   "name": "python",
   "nbconvert_exporter": "python",
   "pygments_lexer": "ipython3",
   "version": "3.8.6"
  },
  "papermill": {
   "default_parameters": {},
   "duration": 40.447994,
   "end_time": "2021-01-20T10:19:24.429128",
   "environment_variables": {},
   "exception": null,
   "input_path": "/home/jovyan/work/elyra-classification/prepare-data-trusted-ai.ipynb",
   "output_path": "/home/jovyan/work/elyra-classification/prepare-data-trusted-ai.ipynb",
   "parameters": {},
   "start_time": "2021-01-20T10:18:43.981134",
   "version": "2.2.2"
  }
 },
 "nbformat": 4,
 "nbformat_minor": 4
}