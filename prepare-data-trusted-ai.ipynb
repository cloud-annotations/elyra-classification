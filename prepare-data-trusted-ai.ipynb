{
 "cells": [
  {
   "cell_type": "code",
   "execution_count": 1,
   "metadata": {
    "execution": {
     "iopub.execute_input": "2021-01-20T10:18:44.640708Z",
     "iopub.status.busy": "2021-01-20T10:18:44.639810Z",
     "iopub.status.idle": "2021-01-20T10:19:24.195206Z",
     "shell.execute_reply": "2021-01-20T10:19:24.194553Z"
    },
    "papermill": {
     "duration": 39.568419,
     "end_time": "2021-01-20T10:19:24.195430",
     "exception": false,
     "start_time": "2021-01-20T10:18:44.627011",
     "status": "completed"
    },
    "tags": []
   },
   "outputs": [
    {
     "name": "stdout",
     "output_type": "stream",
     "text": [
      "Cloning into 'woman-man-recog'...\n",
      "remote: Enumerating objects: 7289, done.\u001b[K\n",
      "remote: Total 7289 (delta 0), reused 0 (delta 0), pack-reused 7289\u001b[K\n",
      "Receiving objects: 100% (7289/7289), 198.26 MiB | 6.46 MiB/s, done.\n",
      "Resolving deltas: 100% (62/62), done.\n"
     ]
    }
   ],
   "source": [
    "!git clone https://github.com/romeokienzler/woman-man-recog.git\n",
    "!rm -Rf data\n",
    "!mkdir data\n",
    "!cp -r woman-man-recog/man data/\n",
    "!cp -r woman-man-recog/woman data/\n",
    "!rm -Rf woman-man-recog"
   ]
  }
 ],
 "metadata": {
  "kernelspec": {
   "display_name": "Python 3",
   "language": "python",
   "name": "python3"
  },
  "language_info": {
   "codemirror_mode": {
    "name": "ipython",
    "version": 3
   },
   "file_extension": ".py",
   "mimetype": "text/x-python",
   "name": "python",
   "nbconvert_exporter": "python",
   "pygments_lexer": "ipython3",
   "version": "3.8.6"
  },
  "papermill": {
   "default_parameters": {},
   "duration": 40.447994,
   "end_time": "2021-01-20T10:19:24.429128",
   "environment_variables": {},
   "exception": null,
   "input_path": "/home/jovyan/work/elyra-classification/prepare-data-trusted-ai.ipynb",
   "output_path": "/home/jovyan/work/elyra-classification/prepare-data-trusted-ai.ipynb",
   "parameters": {},
   "start_time": "2021-01-20T10:18:43.981134",
   "version": "2.2.2"
  }
 },
 "nbformat": 4,
 "nbformat_minor": 4
}
