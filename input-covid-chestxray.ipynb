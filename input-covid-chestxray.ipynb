{
 "cells": [
  {
   "cell_type": "code",
   "execution_count": 4,
   "metadata": {},
   "outputs": [
    {
     "name": "stdout",
     "output_type": "stream",
     "text": [
      "Requirement already satisfied: import_ipynb==0.1.3 in /opt/conda/lib/python3.8/site-packages (0.1.3)\n",
      "\u001b[33mWARNING: You are using pip version 21.0; however, version 21.0.1 is available.\n",
      "You should consider upgrading via the '/opt/conda/bin/python -m pip install --upgrade pip' command.\u001b[0m\n"
     ]
    }
   ],
   "source": [
    "!pip install import_ipynb==0.1.3"
   ]
  },
  {
   "cell_type": "code",
   "execution_count": 5,
   "metadata": {
    "jupyter": {
     "source_hidden": true
    }
   },
   "outputs": [
    {
     "name": "stdout",
     "output_type": "stream",
     "text": [
      "importing Jupyter notebook from codait_utils.ipynb\n"
     ]
    }
   ],
   "source": [
    "import import_ipynb\n",
    "from codait_utils import *"
   ]
  },
  {
   "cell_type": "code",
   "execution_count": 1,
   "metadata": {
    "papermill": {
     "duration": 39.568419,
     "end_time": "2021-01-20T10:19:24.195430",
     "exception": false,
     "start_time": "2021-01-20T10:18:44.627011",
     "status": "completed"
    },
    "tags": []
   },
   "outputs": [
    {
     "name": "stdout",
     "output_type": "stream",
     "text": [
      "Cloning into 'covid-chestxray-dataset'...\n",
      "remote: Enumerating objects: 3629, done.\u001b[K\n",
      "remote: Total 3629 (delta 0), reused 0 (delta 0), pack-reused 3629\u001b[K\n",
      "Receiving objects: 100% (3629/3629), 632.96 MiB | 4.08 MiB/s, done.\n",
      "Resolving deltas: 100% (1442/1442), done.\n",
      "Updating files: 100% (1173/1173), done.\n"
     ]
    }
   ],
   "source": [
    "!git clone https://github.com/ieee8023/covid-chestxray-dataset.git\n"
   ]
  },
  {
   "cell_type": "code",
   "execution_count": 5,
   "metadata": {},
   "outputs": [],
   "source": [
    "!mv covid-chestxray-dataset/images ."
   ]
  },
  {
   "cell_type": "code",
   "execution_count": 6,
   "metadata": {},
   "outputs": [],
   "source": [
    "!mv covid-chestxray-dataset/metadata.csv ."
   ]
  },
  {
   "cell_type": "code",
   "execution_count": 7,
   "metadata": {},
   "outputs": [],
   "source": [
    "!rm -Rf covid-chestxray-dataset"
   ]
  },
  {
   "cell_type": "code",
   "execution_count": 6,
   "metadata": {},
   "outputs": [
    {
     "name": "stdout",
     "output_type": "stream",
     "text": [
      "adding images to images.zip\n"
     ]
    }
   ],
   "source": [
    "zipdir('images.zip', 'images')"
   ]
  },
  {
   "cell_type": "code",
   "execution_count": null,
   "metadata": {},
   "outputs": [],
   "source": []
  }
 ],
 "metadata": {
  "kernelspec": {
   "display_name": "Python 3",
   "language": "python",
   "name": "python3"
  },
  "language_info": {
   "codemirror_mode": {
    "name": "ipython",
    "version": 3
   },
   "file_extension": ".py",
   "mimetype": "text/x-python",
   "name": "python",
   "nbconvert_exporter": "python",
   "pygments_lexer": "ipython3",
   "version": "3.8.6"
  },
  "papermill": {
   "default_parameters": {},
   "duration": 40.447994,
   "end_time": "2021-01-20T10:19:24.429128",
   "environment_variables": {},
   "exception": null,
   "input_path": "/home/jovyan/work/elyra-classification/prepare-data-trusted-ai.ipynb",
   "output_path": "/home/jovyan/work/elyra-classification/prepare-data-trusted-ai.ipynb",
   "parameters": {},
   "start_time": "2021-01-20T10:18:43.981134",
   "version": "2.2.2"
  }
 },
 "nbformat": 4,
 "nbformat_minor": 4
}
