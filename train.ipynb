{
 "cells": [
  {
   "cell_type": "code",
   "execution_count": null,
   "metadata": {
    "papermill": {
     "duration": 1.167889,
     "end_time": "2021-01-13T20:45:06.435383",
     "exception": false,
     "start_time": "2021-01-13T20:45:05.267494",
     "status": "completed"
    },
    "tags": []
   },
   "outputs": [],
   "source": [
    "!pip install \"tensorflow~=2.0\" \"tensorflow-hub[make_image_classifier]~=0.6\""
   ]
  },
  {
   "cell_type": "code",
   "execution_count": null,
   "metadata": {
    "papermill": {
     "duration": 22.252066,
     "end_time": "2021-01-13T20:45:28.691929",
     "exception": false,
     "start_time": "2021-01-13T20:45:06.439863",
     "status": "completed"
    },
    "tags": []
   },
   "outputs": [],
   "source": [
    "!make_image_classifier \\\n",
    "  --image_dir data \\\n",
    "  --tfhub_module https://tfhub.dev/google/tf2-preview/mobilenet_v2/feature_vector/4 \\\n",
    "  --image_size 224 \\\n",
    "  --saved_model_dir model \\\n",
    "  --labels_output_file labels.txt \\\n",
    "  --train_epochs=5 \\\n",
    "  --do_fine_tuning \\\n",
    "  --batch_size=32 \\\n",
    "  --learning_rate=0.005 \\\n",
    "  --momentum=0.9 \\\n",
    "  --dropout_rate=0.2 \\\n",
    "  --l1_regularizer=0.0 \\\n",
    "  --l2_regularizer=0.0001 \\\n",
    "  --label_smoothing=0.1 \\\n",
    "  --validation_split=0.2"
   ]
  },
  {
   "cell_type": "code",
   "execution_count": null,
   "metadata": {
    "papermill": {
     "duration": 0.133484,
     "end_time": "2021-01-13T20:45:28.835616",
     "exception": false,
     "start_time": "2021-01-13T20:45:28.702132",
     "status": "completed"
    },
    "tags": []
   },
   "outputs": [],
   "source": [
    "!mv labels.txt model"
   ]
  }
 ],
 "metadata": {
  "kernelspec": {
   "display_name": "Python 3",
   "language": "python",
   "name": "python3"
  },
  "language_info": {
   "codemirror_mode": {
    "name": "ipython",
    "version": 3
   },
   "file_extension": ".py",
   "mimetype": "text/x-python",
   "name": "python",
   "nbconvert_exporter": "python",
   "pygments_lexer": "ipython3",
   "version": "3.7.9"
  },
  "papermill": {
   "default_parameters": {},
   "duration": 24.388299,
   "end_time": "2021-01-13T20:45:29.055848",
   "environment_variables": {},
   "exception": null,
   "input_path": "/Users/niko/Documents/code/elyra-classification/train.ipynb",
   "output_path": "/Users/niko/Documents/code/elyra-classification/train.ipynb",
   "parameters": {},
   "start_time": "2021-01-13T20:45:04.667549",
   "version": "2.2.2"
  }
 },
 "nbformat": 4,
 "nbformat_minor": 4
}
