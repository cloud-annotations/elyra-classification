{
 "cells": [
  {
   "cell_type": "code",
   "execution_count": null,
   "metadata": {},
   "outputs": [],
   "source": [
    "!pip install \"tensorflow~=2.0\" \"tensorflow-hub[make_image_classifier]~=0.6\""
   ]
  },
  {
   "cell_type": "code",
   "execution_count": null,
   "metadata": {},
   "outputs": [],
   "source": [
    "!make_image_classifier \\\n",
    "  --image_dir data \\\n",
    "  --tfhub_module https://tfhub.dev/google/tf2-preview/mobilenet_v2/feature_vector/4 \\\n",
    "  --image_size 224 \\\n",
    "  --saved_model_dir model \\\n",
    "  --labels_output_file labels.txt \\\n",
    "  --train_epochs=5 \\\n",
    "  --do_fine_tuning \\\n",
    "  --batch_size=32 \\\n",
    "  --learning_rate=0.005 \\\n",
    "  --momentum=0.9 \\\n",
    "  --dropout_rate=0.2 \\\n",
    "  --l1_regularizer=0.0 \\\n",
    "  --l2_regularizer=0.0001 \\\n",
    "  --label_smoothing=0.1 \\\n",
    "  --validation_split=0.2"
   ]
  },
  {
   "cell_type": "code",
   "execution_count": null,
   "metadata": {},
   "outputs": [],
   "source": [
    "!mv labels.txt model"
   ]
  }
 ],
 "metadata": {
  "kernelspec": {
   "display_name": "Python 3",
   "language": "python",
   "name": "python3"
  },
  "language_info": {
   "codemirror_mode": {
    "name": "ipython",
    "version": 3
   },
   "file_extension": ".py",
   "mimetype": "text/x-python",
   "name": "python",
   "nbconvert_exporter": "python",
   "pygments_lexer": "ipython3",
   "version": "3.7.9"
  }
 },
 "nbformat": 4,
 "nbformat_minor": 4
}