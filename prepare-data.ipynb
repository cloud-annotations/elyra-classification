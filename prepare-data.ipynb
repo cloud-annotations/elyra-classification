{
 "cells": [
  {
   "cell_type": "code",
   "execution_count": null,
   "metadata": {},
   "outputs": [],
   "source": [
    "!pip install ibm-cos-sdk"
   ]
  },
  {
   "cell_type": "code",
   "execution_count": null,
   "metadata": {},
   "outputs": [],
   "source": [
    "import os\n",
    "import shutil\n",
    "import json\n",
    "import uuid\n",
    "\n",
    "import ibm_boto3"
   ]
  },
  {
   "cell_type": "code",
   "execution_count": null,
   "metadata": {},
   "outputs": [],
   "source": [
    "bucket = os.getenv(\"BUCKET\", \"\")\n",
    "access_key_id = os.getenv(\"ACCESS_KEY_ID\", \"\")\n",
    "secret_access_key = os.getenv(\"SECRET_ACCESS_KEY\", \"\")\n",
    "endpoint_url = os.getenv(\"ENDPOINT_URL\", \"\")"
   ]
  },
  {
   "cell_type": "code",
   "execution_count": null,
   "metadata": {},
   "outputs": [],
   "source": [
    "cos = ibm_boto3.resource(\"s3\",\n",
    "    aws_access_key_id=access_key_id,\n",
    "    aws_secret_access_key=secret_access_key,\n",
    "    endpoint_url=endpoint_url\n",
    ")\n",
    "\n",
    "# load the annotations\n",
    "try:\n",
    "    annotations = json.loads(cos.Object(bucket, \"_annotations.json\").get()[\"Body\"].read())[\"annotations\"]\n",
    "except Exception as e:\n",
    "    print(\"Unable to retrieve annotations: {}\".format(e))"
   ]
  },
  {
   "cell_type": "code",
   "execution_count": null,
   "metadata": {},
   "outputs": [],
   "source": [
    "data_dir = \"data\"\n",
    "os.makedirs(data_dir)\n",
    "\n",
    "# create a set of labels and then turn it into a list to remove dupelicates\n",
    "labels = list({annotation[\"label\"] for image in annotations.values() for annotation in image})\n",
    "\n",
    "for label in labels:\n",
    "    # find a list of images with the given label\n",
    "    image_list = [image_name for image_name in annotations.keys() for annotation in annotations[image_name] if annotation[\"label\"] == label]\n",
    "\n",
    "    # make directory for the label to store images in\n",
    "    train_label_dir = os.path.join(data_dir, label)\n",
    "    os.makedirs(train_label_dir)\n",
    "\n",
    "    # move images to the their label folder\n",
    "    for im in image_list:\n",
    "        try:\n",
    "            extension = os.path.splitext(im)[1]\n",
    "            cos.meta.client.download_file(bucket, im, os.path.join(train_label_dir, str(uuid.uuid4()) + extension))\n",
    "        except Exception as e:\n",
    "            print(\"Error: {}, skipping {}...\".format(e, im))"
   ]
  }
 ],
 "metadata": {
  "kernelspec": {
   "display_name": "Python 3",
   "language": "python",
   "name": "python3"
  },
  "language_info": {
   "codemirror_mode": {
    "name": "ipython",
    "version": 3
   },
   "file_extension": ".py",
   "mimetype": "text/x-python",
   "name": "python",
   "nbconvert_exporter": "python",
   "pygments_lexer": "ipython3",
   "version": "3.7.9"
  }
 },
 "nbformat": 4,
 "nbformat_minor": 4
}
